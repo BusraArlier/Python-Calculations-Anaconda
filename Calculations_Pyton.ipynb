{
 "cells": [
  {
   "cell_type": "markdown",
   "id": "ab27c66f-e5e7-4372-b700-afc572c5ac4c",
   "metadata": {},
   "source": [
    "## Pyton Assignment"
   ]
  },
  {
   "cell_type": "code",
   "execution_count": null,
   "id": "e11e3e20-4d1c-4c11-bcee-0ee382862b67",
   "metadata": {},
   "outputs": [],
   "source": [
    "# Solving simple mathematical problems\n",
    "Now you should be able to construct a short program solving simple mathematical problems such as the Pythagorean theorem:\n",
    "\n",
    "The square of the hypotenuse is equal to the sum of the squares of the other two sides.\n",
    "Write Python code that will get two sides of a right triangle and calculate the hypotenuse. (Pythagorean theorem:)\n"
   ]
  },
  {
   "cell_type": "code",
   "execution_count": 38,
   "id": "557166b6-e391-4b75-bf35-9ab5a26fe66c",
   "metadata": {},
   "outputs": [
    {
     "name": "stdout",
     "output_type": "stream",
     "text": [
      "Input lengths of shorter triangle sides:\n"
     ]
    },
    {
     "name": "stdin",
     "output_type": "stream",
     "text": [
      "a:  3\n",
      "b:  4\n"
     ]
    },
    {
     "name": "stdout",
     "output_type": "stream",
     "text": [
      "The length of the hypotenuse is: 5.0\n"
     ]
    }
   ],
   "source": [
    "import math\n",
    "print(\"Input lengths of shorter triangle sides:\") \n",
    "a = float(input(\"a: \")) \n",
    "b = float(input(\"b: \")) \n",
    "print(\"The length of the hypotenuse is:\", math.sqrt(a**2 + b**2) )"
   ]
  },
  {
   "cell_type": "markdown",
   "id": "032f2726-5d67-4c9f-acb5-d83f4f0bd8bc",
   "metadata": {},
   "source": [
    "# Variables ‒ a simple converter\n",
    "Miles and kilometers are units of length or distance.\n",
    "Bearing in mind that 1 mile is equal to approximately 1.61 kilometers, complete the program so that it converts:\n",
    "•\tmiles to kilometers;\n",
    "•\tkilometers to miles.\n",
    "Test your program with the data we've provided in the source code.\n",
    "Pay particular attention to what is going on inside the print() function. Analyze how we provide multiple arguments to the function, and how we output the expected data.\n",
    "Note that some of the arguments inside the print() function are strings (e.g., \"miles is\", whereas some other are variables (e.g., miles).\n",
    "\n"
   ]
  },
  {
   "cell_type": "code",
   "execution_count": 5,
   "id": "0a734aa4-a71e-4084-bf40-6f70e27c0c3a",
   "metadata": {},
   "outputs": [
    {
     "name": "stdin",
     "output_type": "stream",
     "text": [
      "Enter the speed in Kilometer 10\n"
     ]
    },
    {
     "name": "stdout",
     "output_type": "stream",
     "text": [
      "The speed value in Miles: 6.21371\n"
     ]
    },
    {
     "name": "stdin",
     "output_type": "stream",
     "text": [
      "Enter the speed in Miles 10\n"
     ]
    },
    {
     "name": "stdout",
     "output_type": "stream",
     "text": [
      "The speed value in Kilometer: 16.1\n"
     ]
    }
   ],
   "source": [
    "kilometer = float(input(\"Enter the speed in Kilometer\"))\n",
    "conversion_ratio = 0.621371\n",
    "miles = kilometer * conversion_ratio\n",
    " \n",
    "print(\"The speed value in Miles:\", miles)\n",
    "\n",
    "miles = float(input(\"Enter the speed in Miles\"))\n",
    "conversation_ratio = 1.61\n",
    "kilometer = miles * conversation_ratio\n",
    "\n",
    "print(\"The speed value in Kilometer:\", kilometer)"
   ]
  },
  {
   "cell_type": "code",
   "execution_count": null,
   "id": "2ddf7603-9122-4db6-93ee-020b8f6f57df",
   "metadata": {},
   "outputs": [],
   "source": [
    "# Write a Python program which accepts the radius of a circle from the user and compute the area.\n",
    "Area = pi*radius2\n"
   ]
  },
  {
   "cell_type": "code",
   "execution_count": 7,
   "id": "54948c7d-38d8-4d46-bd77-cc4334974abe",
   "metadata": {},
   "outputs": [
    {
     "name": "stdin",
     "output_type": "stream",
     "text": [
      "Enter radius of circle:  10\n"
     ]
    },
    {
     "name": "stdout",
     "output_type": "stream",
     "text": [
      "Area of circle = 314.159\n"
     ]
    }
   ],
   "source": [
    "r = float(input(\"Enter radius of circle: \"))\n",
    "a = 3.14159 * r * r\n",
    "print(\"Area of circle =\", a)"
   ]
  },
  {
   "cell_type": "code",
   "execution_count": null,
   "id": "10d5d92c-2617-4589-9f2e-d2f29f998cd5",
   "metadata": {},
   "outputs": [],
   "source": []
  }
 ],
 "metadata": {
  "kernelspec": {
   "display_name": "anaconda-panel-2023.05-py310",
   "language": "python",
   "name": "conda-env-anaconda-panel-2023.05-py310-py"
  },
  "language_info": {
   "codemirror_mode": {
    "name": "ipython",
    "version": 3
   },
   "file_extension": ".py",
   "mimetype": "text/x-python",
   "name": "python",
   "nbconvert_exporter": "python",
   "pygments_lexer": "ipython3",
   "version": "3.11.4"
  }
 },
 "nbformat": 4,
 "nbformat_minor": 5
}
